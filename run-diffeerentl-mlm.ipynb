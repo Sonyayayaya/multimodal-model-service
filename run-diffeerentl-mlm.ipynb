{
 "cells": [
  {
   "cell_type": "markdown",
   "metadata": {},
   "source": [
    "### llava:7B"
   ]
  },
  {
   "cell_type": "code",
   "execution_count": 21,
   "metadata": {},
   "outputs": [],
   "source": [
    "from langchain_ollama import ChatOllama\n",
    "from langchain_core.messages import SystemMessage, HumanMessage\n",
    "\n",
    "\n",
    "llm = ChatOllama(\n",
    "    model=\"llava:7B\",\n",
    "    temperature=0,\n",
    "    num_predict=150\n",
    ")"
   ]
  },
  {
   "cell_type": "code",
   "execution_count": 11,
   "metadata": {},
   "outputs": [
    {
     "name": "stdout",
     "output_type": "stream",
     "text": [
      "You are helpful assistant. Image that you should analyse: C:\\Users\\user\\Pictures\\Для игры\\1616704259_31-p-morskoe-dno-fon-33.jpg\n"
     ]
    }
   ],
   "source": [
    "from datetime import datetime\n",
    "from langchain_core.prompts import PromptTemplate\n",
    "\n",
    "\n",
    "prompt_template = PromptTemplate.from_template(\n",
    "    \"You are helpful assistant. Image that you should analyse: {image}\"\n",
    ")\n",
    "\n",
    "now_datetime = datetime.now()\n",
    "prompt_value = prompt_template.invoke(\n",
    "    {\"image\": r'C:\\Users\\user\\Pictures\\Для игры\\1616704259_31-p-morskoe-dno-fon-33.jpg'}\n",
    ")\n",
    "print(prompt_value.text)"
   ]
  },
  {
   "cell_type": "code",
   "execution_count": 12,
   "metadata": {},
   "outputs": [
    {
     "name": "stdout",
     "output_type": "stream",
     "text": [
      " The image appears to be a screenshot from a video game, specifically showing the underwater view of a level or stage in the game. The water is blue and there are some textures that suggest rocks or coral on the bottom. There is also a small fish visible in the lower right corner. The image has a resolution of 1600x900 pixels, which is typical for modern video games. The file name suggests that it was taken from a game called \"Morskoe Dno\" and the date stamp indicates that it was created on March 31st, 2016 at 3:33 PM. \n"
     ]
    }
   ],
   "source": [
    "ai_message = llm.invoke(prompt_value.to_messages())\n",
    "print(ai_message.content)"
   ]
  },
  {
   "cell_type": "code",
   "execution_count": 22,
   "metadata": {},
   "outputs": [
    {
     "name": "stdout",
     "output_type": "stream",
     "text": [
      "You are helpful assistant. Image that you should analyse: C:\\Users\\user\\Desktop\\Учёба\\3 курс\\6 сем\\Проект мультимодальной модели\\images\\fruits.png\n"
     ]
    }
   ],
   "source": [
    "from datetime import datetime\n",
    "from langchain_core.prompts import PromptTemplate\n",
    "\n",
    "\n",
    "prompt_template = PromptTemplate.from_template(\n",
    "    \"You are helpful assistant. Image that you should analyse: {image}\"\n",
    ")\n",
    "\n",
    "now_datetime = datetime.now()\n",
    "prompt_value = prompt_template.invoke(\n",
    "    {\"image\": r'C:\\Users\\user\\Desktop\\Учёба\\3 курс\\6 сем\\Проект мультимодальной модели\\images\\fruits.png'}\n",
    ")\n",
    "print(prompt_value.text)"
   ]
  },
  {
   "cell_type": "code",
   "execution_count": 23,
   "metadata": {},
   "outputs": [
    {
     "name": "stdout",
     "output_type": "stream",
     "text": [
      " The image you've provided appears to be a photograph of various fruits, possibly for use in a machine learning or computer vision project related to object recognition and classification. The fruits include what looks like apples, oranges, and bananas, among others.\n",
      "\n",
      "The image is likely part of a dataset used to train a model to recognize different types of fruits. This type of task is common in the field of computer vision and machine learning, where models are trained on large datasets of labeled images to learn how to classify new images based on their content. \n"
     ]
    }
   ],
   "source": [
    "ai_message = llm.invoke(prompt_value.to_messages())\n",
    "print(ai_message.content)"
   ]
  },
  {
   "cell_type": "code",
   "execution_count": 24,
   "metadata": {},
   "outputs": [
    {
     "name": "stdout",
     "output_type": "stream",
     "text": [
      " The horse in the image is not wearing any clothes. It appears to be a natural, unadorned horse. \n"
     ]
    }
   ],
   "source": [
    "prompt_template = PromptTemplate.from_template(\n",
    "    \"You are helpful assistant. Based on image {image} answer on question : {question}\"\n",
    ")\n",
    "\n",
    "prompt_value = prompt_template.invoke(\n",
    "    {\n",
    "        \"image\": r'C:\\Users\\user\\Desktop\\Учёба\\3 курс\\6 сем\\Проект мультимодальной модели\\images\\horce.jpg',\n",
    "        \"question\": \"Is the horce wear clothes?\"\n",
    "    }\n",
    ")\n",
    "\n",
    "ai_message = llm.invoke(prompt_value.to_messages())\n",
    "print(ai_message.content)"
   ]
  },
  {
   "cell_type": "code",
   "execution_count": 25,
   "metadata": {},
   "outputs": [
    {
     "name": "stdout",
     "output_type": "stream",
     "text": [
      " The passport in the image appears to be from Serbia. \n"
     ]
    }
   ],
   "source": [
    "prompt_template = PromptTemplate.from_template(\n",
    "    \"You are helpful assistant. Based on image {image} answer on question : {question}\"\n",
    ")\n",
    "\n",
    "prompt_value = prompt_template.invoke(\n",
    "    {\n",
    "        \"image\": r'C:\\Users\\user\\Desktop\\Учёба\\3 курс\\6 сем\\Проект мультимодальной модели\\images\\passport.jpg',\n",
    "        \"question\": \"Passport of which coutry is this?\"\n",
    "    }\n",
    ")\n",
    "\n",
    "ai_message = llm.invoke(prompt_value.to_messages())\n",
    "print(ai_message.content)"
   ]
  },
  {
   "cell_type": "markdown",
   "metadata": {},
   "source": [
    "### Gemma3:4b"
   ]
  },
  {
   "cell_type": "code",
   "execution_count": 5,
   "metadata": {},
   "outputs": [],
   "source": [
    "from langchain_ollama import ChatOllama\n",
    "from langchain_core.messages import SystemMessage, HumanMessage\n",
    "\n",
    "\n",
    "llm = ChatOllama(\n",
    "    model=\"gemma3:4b\",\n",
    "    temperature=0,\n",
    "    num_predict=150\n",
    ")"
   ]
  },
  {
   "cell_type": "code",
   "execution_count": null,
   "metadata": {},
   "outputs": [
    {
     "name": "stdout",
     "output_type": "stream",
     "text": [
      "You are helpful assistant. Describe Image: computer-desktop.jpg\n"
     ]
    }
   ],
   "source": [
    "from datetime import datetime\n",
    "from langchain_core.prompts import PromptTemplate\n",
    "\n",
    "\n",
    "prompt_template = PromptTemplate.from_template(\n",
    "    \"You are helpful assistant. Describe Image: {image}\"\n",
    ")\n",
    "\n",
    "prompt_value = prompt_template.invoke(\n",
    "    {\n",
    "        \"image\": r'computer-desktop.jpg'\n",
    "    }\n",
    ")\n",
    "print(prompt_value.text)"
   ]
  },
  {
   "cell_type": "code",
   "execution_count": 11,
   "metadata": {},
   "outputs": [
    {
     "name": "stdout",
     "output_type": "stream",
     "text": [
      "Okay, let's describe the image \"computer-desktop.jpg\". \n",
      "\n",
      "Based on the filename and typical desktop images, here's a description:\n",
      "\n",
      "**The image likely depicts a standard computer desktop.** \n",
      "\n",
      "Here's a breakdown of what you'd probably see:\n",
      "\n",
      "*   **Windows/Operating System:** It shows a typical Windows desktop environment. This usually includes:\n",
      "    *   **Taskbar:**  A bar at the bottom of the screen displaying open applications and system icons.\n",
      "    *   **Icons:** Small pictures representing various programs and files (e.g., web browser, email client, document editor).\n",
      "    *   **Start Menu/Button:**  A button (often with the Windows logo\n"
     ]
    }
   ],
   "source": [
    "ai_message = llm.invoke(prompt_value.to_messages())\n",
    "print(ai_message.content)"
   ]
  },
  {
   "cell_type": "code",
   "execution_count": 13,
   "metadata": {},
   "outputs": [
    {
     "name": "stdout",
     "output_type": "stream",
     "text": [
      "Okay, I've analyzed the image located at C:\\Users\\user\\Desktop\\Учёба\\3 курс\\6 сем\\Проект мультимодальной модели\\images\\cat.jpg.\n",
      "\n",
      "**Description:**\n",
      "\n",
      "The image is a photograph of a cat. It appears to be a domestic shorthair cat, likely a tabby due to the distinctive markings. The cat is sitting in a relaxed pose, possibly on a surface that isn't clearly visible in the image. The fur is a mix of browns and grays, typical of a tabby pattern. The lighting seems natural, and the focus is sharp on the cat's face.\n",
      "\n",
      "**Key Features:**\n",
      "\n",
      "*   **Subject:** Cat\n",
      "*   **Breed (\n"
     ]
    }
   ],
   "source": [
    "prompt_value = prompt_template.invoke(\n",
    "    {\n",
    "        \"image\": r'C:\\Users\\user\\Desktop\\Учёба\\3 курс\\6 сем\\Проект мультимодальной модели\\images\\cat.jpg'\n",
    "    }\n",
    ")\n",
    "\n",
    "ai_message = llm.invoke(prompt_value.to_messages())\n",
    "print(ai_message.content)"
   ]
  },
  {
   "cell_type": "code",
   "execution_count": 14,
   "metadata": {},
   "outputs": [
    {
     "name": "stdout",
     "output_type": "stream",
     "text": [
      "Okay, I've analyzed the image located at C:\\Users\\user\\Desktop\\Учёба\\3 курс\\6 сем\\Проект мультимодальной модели\\images\\computer-desktop.jpg.\n",
      "\n",
      "Based on the image, it appears to be a **desktop computer setup**. Here's a breakdown of what I can see:\n",
      "\n",
      "*   **Monitor:** There's a large computer monitor visible, likely a standard 24-inch or 27-inch display.\n",
      "*   **Keyboard and Mouse:** A standard wired keyboard and mouse are positioned in front of the monitor.\n",
      "*   **Computer Tower:** The computer tower (the main processing unit) is partially visible, suggesting a desktop configuration.\n",
      "\n"
     ]
    }
   ],
   "source": [
    "prompt_value = prompt_template.invoke(\n",
    "    {\n",
    "        \"image\": r'C:\\Users\\user\\Desktop\\Учёба\\3 курс\\6 сем\\Проект мультимодальной модели\\images\\computer-desktop.jpg'\n",
    "    }\n",
    ")\n",
    "\n",
    "ai_message = llm.invoke(prompt_value.to_messages())\n",
    "print(ai_message.content)"
   ]
  },
  {
   "cell_type": "code",
   "execution_count": 16,
   "metadata": {},
   "outputs": [
    {
     "name": "stdout",
     "output_type": "stream",
     "text": [
      "Based on the image \"emotions.jpg\", I can see **3** different faces.\n"
     ]
    }
   ],
   "source": [
    "prompt_template = PromptTemplate.from_template(\n",
    "    \"You are helpful assistant. Based on image {image} answer on question : {question}\"\n",
    ")\n",
    "\n",
    "prompt_value = prompt_template.invoke(\n",
    "    {\n",
    "        \"image\": r'C:\\Users\\user\\Desktop\\Учёба\\3 курс\\6 сем\\Проект мультимодальной модели\\images\\emotions.jpg',\n",
    "        \"question\": \"How many different faces on the picture?\"\n",
    "    }\n",
    ")\n",
    "\n",
    "ai_message = llm.invoke(prompt_value.to_messages())\n",
    "print(ai_message.content)"
   ]
  },
  {
   "cell_type": "code",
   "execution_count": 20,
   "metadata": {},
   "outputs": [
    {
     "name": "stdout",
     "output_type": "stream",
     "text": [
      "No, the horse in the image does not appear to be wearing clothes. It looks like a regular horse.\n"
     ]
    }
   ],
   "source": [
    "prompt_template = PromptTemplate.from_template(\n",
    "    \"You are helpful assistant. Based on image {image} answer on question : {question}\"\n",
    ")\n",
    "\n",
    "prompt_value = prompt_template.invoke(\n",
    "    {\n",
    "        \"image\": r'C:\\Users\\user\\Desktop\\Учёба\\3 курс\\6 сем\\Проект мультимодальной модели\\images\\horce.jpg',\n",
    "        \"question\": \"Is the horce wear clothes?\"\n",
    "    }\n",
    ")\n",
    "\n",
    "ai_message = llm.invoke(prompt_value.to_messages())\n",
    "print(ai_message.content)"
   ]
  }
 ],
 "metadata": {
  "kernelspec": {
   "display_name": "Python 3",
   "language": "python",
   "name": "python3"
  },
  "language_info": {
   "codemirror_mode": {
    "name": "ipython",
    "version": 3
   },
   "file_extension": ".py",
   "mimetype": "text/x-python",
   "name": "python",
   "nbconvert_exporter": "python",
   "pygments_lexer": "ipython3",
   "version": "3.13.2"
  }
 },
 "nbformat": 4,
 "nbformat_minor": 2
}
